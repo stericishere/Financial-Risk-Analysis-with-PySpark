{
  "cells": [
    {
      "cell_type": "raw",
      "metadata": {
        "vscode": {
          "languageId": "raw"
        }
      },
      "source": [
        "# Financial Risk Analysis - Data Exploration\n",
        "\n",
        "This notebook provides exploratory data analysis for the financial risk dataset using PySpark.\n",
        "\n",
        "## Overview\n",
        "- Load and explore the financial risk dataset\n",
        "- Perform data quality analysis\n",
        "- Apply risk scoring and categorization\n",
        "- Generate insights and visualizations\n"
      ]
    },
    {
      "cell_type": "code",
      "execution_count": null,
      "metadata": {},
      "outputs": [],
      "source": [
        "import sys\n",
        "import os\n",
        "\n",
        "# Add project root to path\n",
        "sys.path.append(os.path.join(os.getcwd(), '..', 'src'))\n",
        "\n",
        "from pyspark.sql import SparkSession\n",
        "from pyspark.sql.functions import *\n",
        "import pyspark.sql.functions as F\n",
        "\n",
        "from dependencies.spark import start_spark\n",
        "from utils.financial_risk_utils import *\n"
      ]
    }
  ],
  "metadata": {
    "language_info": {
      "name": "python"
    }
  },
  "nbformat": 4,
  "nbformat_minor": 2
}
